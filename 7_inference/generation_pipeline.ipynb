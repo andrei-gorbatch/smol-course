{
 "cells": [
  {
   "cell_type": "markdown",
   "metadata": {},
   "source": [
    " Basic Inference with Transformers Pipeline "
   ]
  },
  {
   "cell_type": "code",
   "execution_count": 1,
   "metadata": {},
   "outputs": [],
   "source": [
    "from transformers import pipeline"
   ]
  },
  {
   "cell_type": "code",
   "execution_count": null,
   "metadata": {},
   "outputs": [],
   "source": [
    "# Create a pipeline with a specific model\n",
    "generator = pipeline(\n",
    "    \"text-generation\",\n",
    "    model=\"HuggingFaceTB/SmolLM2-1.7B-Instruct\",\n",
    "    torch_dtype=\"auto\",\n",
    "    device_map=\"auto\"\n",
    ")\n",
    "\n",
    "# Generate text\n",
    "response = generator(\n",
    "    \"Write a short poem about coding:\",\n",
    "    max_new_tokens=100,\n",
    "    do_sample=True,\n",
    "    temperature=0.7\n",
    ")\n",
    "print(response[0]['generated_text'])\n"
   ]
  },
  {
   "cell_type": "code",
   "execution_count": null,
   "metadata": {},
   "outputs": [],
   "source": [
    "# Create a pipeline with a specific model\n",
    "generator = pipeline(\n",
    "    \"text-generation\",\n",
    "    model=\"HuggingFaceTB/SmolLM2-1.7B-Instruct\",\n",
    "    torch_dtype=\"auto\",\n",
    "    device_map=\"auto\"\n",
    ")\n",
    "\n",
    "# Prepare multiple prompts\n",
    "prompts = [\n",
    "    \"Write a short poem about coding:\",\n",
    "    \"Explain what an API is:\",\n",
    "    \"Write a short story about a robot:\"\n",
    "]\n",
    "\n",
    "# Generate text\n",
    "responses = generator(\n",
    "    prompts,                # List of prompts\n",
    "    batch_size=4,         # Number of prompts to process at once\n",
    "    max_new_tokens=100,     # Maximum length of generated text\n",
    "    do_sample=True,         # Use sampling instead of greedy decoding\n",
    "    temperature=0.7,        # Control randomness (higher = more random)\n",
    "    top_k=50,               # Limit to top k tokens\n",
    "    top_p=0.95,             # Nucleus sampling threshold\n",
    "    num_return_sequences=1  # Number of different generations\n",
    ")\n",
    "\n",
    "# Print results\n",
    "for prompt, response in zip(prompts, responses):\n",
    "    print(f\"Prompt: {prompt}\")\n",
    "    print(f\"Response: {response[0]['generated_text']}\\n\")\n"
   ]
  },
  {
   "cell_type": "code",
   "execution_count": null,
   "metadata": {},
   "outputs": [],
   "source": []
  }
 ],
 "metadata": {
  "kernelspec": {
   "display_name": ".venv",
   "language": "python",
   "name": "python3"
  },
  "language_info": {
   "codemirror_mode": {
    "name": "ipython",
    "version": 3
   },
   "file_extension": ".py",
   "mimetype": "text/x-python",
   "name": "python",
   "nbconvert_exporter": "python",
   "pygments_lexer": "ipython3",
   "version": "3.11.0"
  }
 },
 "nbformat": 4,
 "nbformat_minor": 2
}
